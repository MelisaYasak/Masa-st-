{
 "cells": [
  {
   "cell_type": "markdown",
   "metadata": {},
   "source": [
    "## Programlama Ödevi - Temel Python Objeleri ve Veri Yapıları"
   ]
  },
  {
   "cell_type": "markdown",
   "metadata": {},
   "source": [
    "### Problem 1\n",
    "Kullanıcıdan aldığınız 3 tane sayıyı çarparak ekrana yazdırın. Ekrana yazdırma işlemini format metoduyla yapmaya çalışın.\n",
    "\n",
    "Multiply the 3 numbers you receive from the user and print them on the screen. Try to print to the screen with the format method.\n"
   ]
  },
  {
   "cell_type": "code",
   "execution_count": 1,
   "metadata": {},
   "outputs": [
    {
     "name": "stdout",
     "output_type": "stream",
     "text": [
      "\n",
      " Multiplication of 3 numbers: 120\n"
     ]
    }
   ],
   "source": [
    "num1 = int(input(\"Number 1: \"))\n",
    "num2 = int(input(\"Number 2: \"))\n",
    "num3 = int(input(\"Number 3: \"))\n",
    "print(\"\\n Multiplication of 3 numbers: {}\".format(num1*num2*num3))"
   ]
  },
  {
   "cell_type": "markdown",
   "metadata": {},
   "source": [
    "### Problem 2\n",
    "Kullanıcıdan aldığınız boy ve kilo değerlerine göre kullanıcının beden kitle indeksini bulun.\n",
    "Beden Kitle İndeksi : Kilo / Boy(m) Boy(m)\n",
    "\n",
    "Find the user's body mass index based on the height and weight values you get from the user.\n",
    "Body Mass Index: Weight / Height(m) Height(m)"
   ]
  },
  {
   "cell_type": "code",
   "execution_count": 8,
   "metadata": {},
   "outputs": [
    {
     "name": "stdout",
     "output_type": "stream",
     "text": [
      "Body Mass Index: 20.00\n"
     ]
    }
   ],
   "source": [
    "weight = float(input(\"Weight (kg): \"))\n",
    "height = float(input(\"Height(m): \"))\n",
    "\n",
    "print(\"Body Mass Index: %0.2f\" %(weight/height**2))"
   ]
  },
  {
   "cell_type": "markdown",
   "metadata": {},
   "source": [
    "### Problem 3\n",
    "Bir aracın kilometrede ne kadar yaktığı ve kaç kilometre yol yaptığı bilgilerini alın ve sürücünü toplam ne kadar ödemesini gerektiğini hesaplayın.\n",
    "\n",
    "Get information about how much fuel a vehicle burns per kilometer and how many kilometers it has traveled, and calculate how much the driver must pay in total."
   ]
  },
  {
   "cell_type": "code",
   "execution_count": 4,
   "metadata": {},
   "outputs": [
    {
     "name": "stdout",
     "output_type": "stream",
     "text": [
      "The driver must pay in total: 39116.0\n"
     ]
    }
   ],
   "source": [
    "burnedPerKilometer = float(input(\"how much fuel does the vehicle burn per kilometer?: \"))\n",
    "traveledKilometer = float(input(\"how many kilometers it has traveled: \"))\n",
    "print(\"The driver must pay in total: {}\".format(burnedPerKilometer*traveledKilometer))"
   ]
  },
  {
   "cell_type": "markdown",
   "metadata": {},
   "source": [
    "### Problem 4\n",
    "Kullanıcıdan ad,soyad ve numara bilgisini alarak bunları alt alta ekrana yazdırın.\n",
    "\n",
    "Get the name, surname and phone number information from the user and print them on the screen one after the other."
   ]
  },
  {
   "cell_type": "code",
   "execution_count": 5,
   "metadata": {},
   "outputs": [
    {
     "name": "stdout",
     "output_type": "stream",
     "text": [
      "\n",
      "NAME:MElisa\n",
      "SURNAME:yasak\n",
      "PHONE NUMBER:24\n"
     ]
    }
   ],
   "source": [
    "name = input(\"Name: \")\n",
    "surname = input(\"Surname: \")\n",
    "number = input(\"Phone number: \")\n",
    "\n",
    "print(\"\\nNAME:{}\\nSURNAME:{}\\nPHONE NUMBER:{}\".format(name,surname,number))"
   ]
  },
  {
   "cell_type": "markdown",
   "metadata": {},
   "source": [
    "### Problem 5\n",
    "Kullanıcıdan iki tane sayı isteyin ve bu sayıların değerlerini birbirleriyle değiştirin.\n",
    "\n",
    "Ask the user for two numbers and exchange their values with each other."
   ]
  },
  {
   "cell_type": "code",
   "execution_count": 6,
   "metadata": {},
   "outputs": [
    {
     "name": "stdout",
     "output_type": "stream",
     "text": [
      "First number: 5 Second number: 4\n",
      "Changing values...\n",
      "First number: 4 Second number: 5\n"
     ]
    }
   ],
   "source": [
    "firstNum = int(input(\"Enter first number for exchange: \"))\n",
    "secondNum = int(input(\"Enter second number for exchange: \"))\n",
    "print(\"First number: {} Second number: {}\".format(firstNum,secondNum))\n",
    "firstNum, secondNum = secondNum, firstNum\n",
    "print('Changing values...')\n",
    "print(\"First number: {} Second number: {}\".format(firstNum,secondNum))"
   ]
  },
  {
   "cell_type": "markdown",
   "metadata": {},
   "source": [
    "### Problem 6\n",
    "Kullanıcıdan bir dik üçgenin dik olan iki kenarını(a,b) alın ve hipotenüs uzunluğunu bulmaya çalışın.\n",
    "Hipotenüs Formülü: a^2 + b^2 = c^2\n",
    "\n",
    "Take the two perpendicular sides (a, b) of a right triangle from the user and try to find the length of the hypotenuse.\n",
    "Hypotenuse Formula: a^2 + b^2 = c^2"
   ]
  },
  {
   "cell_type": "code",
   "execution_count": 9,
   "metadata": {},
   "outputs": [
    {
     "name": "stdout",
     "output_type": "stream",
     "text": [
      "Hypotenuse 5.0\n"
     ]
    }
   ],
   "source": [
    "import math\n",
    "a = int(input(\"One of the perpendicular sides: \"))\n",
    "b = int(input(\"The other of the perpendicular sides: \"))\n",
    "print(\"Hypotenuse {}\".format(math.sqrt(a**2+b**2)))"
   ]
  }
 ],
 "metadata": {
  "kernelspec": {
   "display_name": "Python 3.9.0 64-bit",
   "language": "python",
   "name": "python3"
  },
  "language_info": {
   "codemirror_mode": {
    "name": "ipython",
    "version": 3
   },
   "file_extension": ".py",
   "mimetype": "text/x-python",
   "name": "python",
   "nbconvert_exporter": "python",
   "pygments_lexer": "ipython3",
   "version": "3.9.0"
  },
  "orig_nbformat": 4,
  "vscode": {
   "interpreter": {
    "hash": "e078141f7f88033904c08970a854ee953ece92ad02b4ae16ef17d2f42bab3e9c"
   }
  }
 },
 "nbformat": 4,
 "nbformat_minor": 2
}
