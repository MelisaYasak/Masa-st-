{
 "cells": [
  {
   "cell_type": "markdown",
   "metadata": {},
   "source": [
    "## Programlama Ödevi - Koşullu Durumlar"
   ]
  },
  {
   "cell_type": "markdown",
   "metadata": {},
   "source": [
    "### Problem 1\n",
    "Kullanıcıdan alınan boy ve kilo değerlerine göre beden kitle indeksini hesaplayın ve şu kurallara göre ekrana şu yazıları yazdırın.\n",
    "\n",
    " Beden Kitle İndeksi: Kilo / Boy(m) *  Boy(m)\n",
    "\n",
    " BKİ 18.5'un altındaysa -------> Zayıf\n",
    "\n",
    " BKİ 18.5 ile 25 arasındaysa ------> Normal\n",
    "\n",
    " BKİ 25 ile 30 arasındaysa --------> Fazla Kilolu\n",
    "\n",
    " BKİ 30'un üstündeyse -------------> Obez\n",
    "\n",
    "Calculate the body mass index according to the height and weight values obtained from the user and print the following texts on the screen according to these rules.\n",
    "\n",
    "  Body Mass Index: Weight / Height(m) * Height(m)\n",
    "\n",
    "  If BMI is below 18.5 -------> Poor\n",
    "\n",
    "  If BMI is between 18.5 and 25 ------> Normal\n",
    "\n",
    "  If BMI is between 25 and 30 --------> Overweight\n",
    "\n",
    "  If BMI is over 30 -------------> Obese"
   ]
  },
  {
   "cell_type": "code",
   "execution_count": 1,
   "metadata": {},
   "outputs": [
    {
     "name": "stdout",
     "output_type": "stream",
     "text": [
      "Normal\n"
     ]
    }
   ],
   "source": [
    "weight = float(input(\"Weight (kg): \"))\n",
    "height = float(input(\"Height(m): \"))\n",
    "bmi = weight/height**2\n",
    "if bmi < 18.5:\n",
    "  print('Poor')\n",
    "elif 25> bmi > 18.5:\n",
    "  print('Normal')\n",
    "elif 30 > bmi >= 25:\n",
    "  print('Overweight')\n",
    "else:\n",
    "  print('Obese')  \n"
   ]
  },
  {
   "cell_type": "markdown",
   "metadata": {},
   "source": [
    "### Problem 2\n",
    "Kullanıcıdan 3 tane sayı alın ve en büyük sayıyı ekrana yazdırın.\n",
    "\n",
    "Get 3 numbers from the user and print the largest number on the screen."
   ]
  },
  {
   "cell_type": "code",
   "execution_count": 3,
   "metadata": {},
   "outputs": [
    {
     "name": "stdout",
     "output_type": "stream",
     "text": [
      "largest number is:  5\n"
     ]
    }
   ],
   "source": [
    "num1 = int(input(\"Number 1: \"))\n",
    "num2 = int(input(\"Number 2: \"))\n",
    "num3 = int(input(\"Number 3: \"))\n",
    "if (num1 >= num2) and (num1 >= num3):\n",
    "  largest = num1\n",
    "elif (num2 >= num1) and (num2 >= num3):\n",
    "  largest = num2\n",
    "else:\n",
    "  largest = num3\n",
    " \n",
    "print('largest number is: ', largest)"
   ]
  },
  {
   "cell_type": "markdown",
   "metadata": {},
   "source": [
    "### Problem 3\n",
    "Kullanıcının girdiği vize1,vize2,final notlarına notlarına göre harf notunu hesaplayın.\n",
    "\n",
    "    Vize1 toplam notun %30'una etki edecek.\n",
    "    Vize2 toplam notun %30'una etki edecek.\n",
    "    Final toplam notun %40'ına etki edecek.\n",
    "\n",
    "    Toplam Not >=  90 -----> AA\n",
    "    Toplam Not >=  85 -----> BA\n",
    "    Toplam Not >=  80 -----> BB\n",
    "    Toplam Not >=  75 -----> CB\n",
    "    Toplam Not >=  70 -----> CC\n",
    "    Toplam Not >=  65 -----> DC\n",
    "    Toplam Not >=  60 -----> DD\n",
    "    Toplam Not >=  55 -----> FD\n",
    "    Toplam Not <  55 -----> FF\n",
    "\n",
    "Calculate the letter grade according to the grades of the user's exam1, exam2, final grades.\n",
    "\n",
    "     Exam1 will affect 30% of the total grade.\n",
    "     Exam2 will affect 30% of the total grade.\n",
    "     The final will affect 40% of the total grade.\n",
    "\n",
    "     Total Grade >= 90 -----> AA\n",
    "     Total Grade >= 85 -----> BA\n",
    "     Total Grade >= 80 -----> BB\n",
    "     Total Grade >= 75 -----> CB\n",
    "     Total Grade >= 70 -----> CC\n",
    "     Total Grade >= 65 -----> DC\n",
    "     Total Grade >= 60 -----> DD\n",
    "     Total Grade >= 55 -----> FD\n",
    "     Total Grade < 55 -----> FF"
   ]
  },
  {
   "cell_type": "code",
   "execution_count": 7,
   "metadata": {},
   "outputs": [
    {
     "name": "stdout",
     "output_type": "stream",
     "text": [
      "45 50 80 60.5\n",
      "DD\n"
     ]
    }
   ],
   "source": [
    "exam1 = int(input(\"Exam 1: \"))\n",
    "exam2 = int(input(\"Exam 2: \"))\n",
    "final = int(input(\"Final: \"))\n",
    "\n",
    "total_grade = exam1*0.3+exam2*0.3+final*0.4\n",
    "print(exam1, exam2, final, total_grade)\n",
    "if total_grade < 55:\n",
    "  print('FF')\n",
    "elif 55 <= total_grade < 60:\n",
    "  print('FD')\n",
    "elif 60 <= total_grade < 65:\n",
    "  print('DD')\n",
    "elif 65 <= total_grade < 70:\n",
    "  print('DC')\n",
    "elif 70 <= total_grade < 75:\n",
    "  print('CC')\n",
    "elif 75 <= total_grade < 80:\n",
    "  print('CB')\n",
    "elif 80 <= total_grade < 85:\n",
    "  print('BB')\n",
    "elif 85 <= total_grade < 90:\n",
    "  print('BA')\n",
    "else:\n",
    "  print('AA')  "
   ]
  },
  {
   "cell_type": "markdown",
   "metadata": {},
   "source": [
    "### Problem 4\n",
    "Şimdi de geometrik şekil hesaplama işlemi yapalım. İlk olarak kullanıcıdan üçgenin mi dörtgenin mi tipini bulmak istediğini sorun.\n",
    "\n",
    "Eğer kullanıcı \"Dörtgen\" cevabını verirse , 4 tane kenar isteyip bu dörtgenin kare mi , dikdörtgen mi yoksa sıradan bir dörtgen mi olduğunu bulmaya çalışın.\n",
    "\n",
    "Eğer kullanıcı \"Üçgen\" cevabını verirse , 3 tane kenar isteyip bu üçgenin ikizkenar mı , eşkenar mı yoksa sıradan bir üçgen mi olduğunu bulmaya çalışın. Eğer verilen kenarlar bir üçgen belirtmiyorsa, ekrana \"Üçgen belirtmiyor\" şeklinde bir yazı yazın.\n",
    "\n",
    "Now let's do the geometric figure calculation. First, ask the user whether they want to find the type of triangle or rectangle.\n",
    "\n",
    "If the user answers \"Rectangle\", ask for 4 sides and try to find out if this rectangle is a square, a rectangle, or an ordinary rectangle.\n",
    "\n",
    "If the user answers \"Triangle\", ask for 3 sides and try to find out if this triangle is isosceles, equilateral or an ordinary triangle. If the given sides do not indicate a triangle, write \"Does not indicate a triangle\" on the screen"
   ]
  },
  {
   "cell_type": "code",
   "execution_count": 15,
   "metadata": {},
   "outputs": [
    {
     "name": "stdout",
     "output_type": "stream",
     "text": [
      "3 4 3\n",
      "3 4 3\n",
      "An isosceles\n"
     ]
    }
   ],
   "source": [
    "geoType= input(\"Rectangle/Triangle: \")\n",
    "\n",
    "if geoType == \"Rectangle\":\n",
    "  print('Enter rectangle ')\n",
    "  sideR1 = int(input(\"side 1: \"))\n",
    "  sideR2 = int(input(\"side 2: \"))\n",
    "  sideR3 = int(input(\"side 3: \"))\n",
    "  sideR4 = int(input(\"side 4: \"))\n",
    "  if ((sideR1 == sideR2) and (sideR3 == sideR4)):\n",
    "    print(\"A square\")\n",
    "  elif ((sideR1 == sideR3) and (sideR2 == sideR4)):\n",
    "    print(\"A rectangle\")\n",
    "  else:\n",
    "    print(\"An ordinary rectangle\")\n",
    "elif geoType == \"Triangle\":\n",
    "  sideT1 = int(input(\"side 1: \"))\n",
    "  sideT2 = int(input(\"side 2: \"))\n",
    "  sideT3 = int(input(\"side 3: \"))\n",
    "  print(sideT1, sideT2, sideT3)\n",
    "  if ((sideT1+sideT2 >= sideT3) and (sideT1+sideT3 >= sideT2) and (sideT3+sideT2 >= sideT1)):\n",
    "    if(sideT1==sideT3):\n",
    "      print(\"An isosceles\")\n",
    "    elif(sideT1==sideT3 and sideT1==sideT2):\n",
    "      print(\"An equilateral\")\n",
    "    else:\n",
    "      print(\"An ordinary triangle\")\n",
    "  else:\n",
    "    print(\"Does not indicate a triangle\")\n",
    "else:\n",
    "  print(\"Choose right one!\")"
   ]
  },
  {
   "cell_type": "code",
   "execution_count": null,
   "metadata": {},
   "outputs": [],
   "source": []
  },
  {
   "cell_type": "code",
   "execution_count": null,
   "metadata": {},
   "outputs": [],
   "source": []
  }
 ],
 "metadata": {
  "kernelspec": {
   "display_name": "Python 3.9.0 64-bit",
   "language": "python",
   "name": "python3"
  },
  "language_info": {
   "codemirror_mode": {
    "name": "ipython",
    "version": 3
   },
   "file_extension": ".py",
   "mimetype": "text/x-python",
   "name": "python",
   "nbconvert_exporter": "python",
   "pygments_lexer": "ipython3",
   "version": "3.9.0"
  },
  "orig_nbformat": 4,
  "vscode": {
   "interpreter": {
    "hash": "e078141f7f88033904c08970a854ee953ece92ad02b4ae16ef17d2f42bab3e9c"
   }
  }
 },
 "nbformat": 4,
 "nbformat_minor": 2
}
